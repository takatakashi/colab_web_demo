{
  "nbformat": 4,
  "nbformat_minor": 0,
  "metadata": {
    "colab": {
      "name": "Chapter01.ipynb",
      "provenance": [],
      "collapsed_sections": [],
      "include_colab_link": true
    },
    "kernelspec": {
      "name": "python3",
      "display_name": "Python 3"
    }
  },
  "cells": [
    {
      "cell_type": "markdown",
      "metadata": {
        "id": "view-in-github",
        "colab_type": "text"
      },
      "source": [
        "<a href=\"https://colab.research.google.com/github/takatakashi/colab_web_demo/blob/master/Python_Chapter01.ipynb\" target=\"_parent\"><img src=\"https://colab.research.google.com/assets/colab-badge.svg\" alt=\"Open In Colab\"/></a>"
      ]
    },
    {
      "cell_type": "markdown",
      "metadata": {
        "id": "ZytPF1NTe-BG",
        "colab_type": "text"
      },
      "source": [
        "# **1章 Python入門**\n"
      ]
    },
    {
      "cell_type": "markdown",
      "metadata": {
        "id": "jdrTBmgkkeqZ",
        "colab_type": "text"
      },
      "source": [
        "## **1.1 Python とは**\n",
        "*   シンプルで読みやすく、覚えやすいプログラミング言語\n",
        "*   科学の分野、機械学習やデータサイエンスの分野で使われる\n",
        "*   数値計算や統計処理を行う優れたライブラリが豊富\n",
        "*   有名なディープラーニングのフレームワークでもインターフェースが提供されている"
      ]
    },
    {
      "cell_type": "code",
      "metadata": {
        "id": "zPfWoJzVkvuh",
        "colab_type": "code",
        "colab": {}
      },
      "source": [
        ""
      ],
      "execution_count": null,
      "outputs": []
    },
    {
      "cell_type": "markdown",
      "metadata": {
        "id": "47emypE0kbeC",
        "colab_type": "text"
      },
      "source": [
        "## **1.2 Pythonのインストール**\n",
        "\n",
        "> Google Colaboratory を利用します\n",
        "\n",
        "事前準備  \n",
        "https://github.com/oreilly-japan/deep-learning-from-scratch  \n",
        "から Zipファイルをダウンロードし解凍  \n",
        "\n",
        "各自の Google Drive の 直下に\n",
        "「deep-learning-from-scratch」 \n",
        "としてアップロード\n"
      ]
    },
    {
      "cell_type": "code",
      "metadata": {
        "id": "iZDZc9-3kwlo",
        "colab_type": "code",
        "colab": {}
      },
      "source": [
        ""
      ],
      "execution_count": null,
      "outputs": []
    },
    {
      "cell_type": "markdown",
      "metadata": {
        "id": "CdcyxRookXYa",
        "colab_type": "text"
      },
      "source": [
        "## **1.3 Python インタプリタ**"
      ]
    },
    {
      "cell_type": "code",
      "metadata": {
        "colab_type": "code",
        "id": "-pgFLj3RKd9D",
        "colab": {}
      },
      "source": [
        "!python --version"
      ],
      "execution_count": null,
      "outputs": []
    },
    {
      "cell_type": "code",
      "metadata": {
        "id": "FdCHwc9-KsL5",
        "colab_type": "code",
        "colab": {}
      },
      "source": [
        "!python"
      ],
      "execution_count": null,
      "outputs": []
    },
    {
      "cell_type": "markdown",
      "metadata": {
        "id": "Gf77z5nCkQPi",
        "colab_type": "text"
      },
      "source": [
        "### **1.3.1 算術計算**"
      ]
    },
    {
      "cell_type": "code",
      "metadata": {
        "id": "RLo6fAoJgxQp",
        "colab_type": "code",
        "colab": {}
      },
      "source": [
        "1 - 2"
      ],
      "execution_count": null,
      "outputs": []
    },
    {
      "cell_type": "code",
      "metadata": {
        "id": "j-SddIfjhCEW",
        "colab_type": "code",
        "colab": {}
      },
      "source": [
        "4 * 5"
      ],
      "execution_count": null,
      "outputs": []
    },
    {
      "cell_type": "code",
      "metadata": {
        "id": "8El1Sc3_hGHt",
        "colab_type": "code",
        "colab": {}
      },
      "source": [
        "7 / 5"
      ],
      "execution_count": null,
      "outputs": []
    },
    {
      "cell_type": "code",
      "metadata": {
        "id": "bz4gPyUbhJ8T",
        "colab_type": "code",
        "colab": {}
      },
      "source": [
        "3 ** 2"
      ],
      "execution_count": null,
      "outputs": []
    },
    {
      "cell_type": "code",
      "metadata": {
        "id": "srQj7j6Ukyhy",
        "colab_type": "code",
        "colab": {}
      },
      "source": [
        ""
      ],
      "execution_count": null,
      "outputs": []
    },
    {
      "cell_type": "markdown",
      "metadata": {
        "id": "nz20UcTRhP5s",
        "colab_type": "text"
      },
      "source": [
        "### **1.3.2 データ型**\n",
        "\n",
        "\n"
      ]
    },
    {
      "cell_type": "code",
      "metadata": {
        "id": "-o6asg-ChWaO",
        "colab_type": "code",
        "colab": {}
      },
      "source": [
        "# 整数\n",
        "type(10)"
      ],
      "execution_count": null,
      "outputs": []
    },
    {
      "cell_type": "code",
      "metadata": {
        "id": "Zp0GnCjThfM0",
        "colab_type": "code",
        "colab": {}
      },
      "source": [
        "# 浮動小数点\n",
        "type(2.718)"
      ],
      "execution_count": null,
      "outputs": []
    },
    {
      "cell_type": "code",
      "metadata": {
        "id": "R42Yh94dhkvq",
        "colab_type": "code",
        "colab": {}
      },
      "source": [
        "# 文字列\n",
        "type(\"hello\")"
      ],
      "execution_count": null,
      "outputs": []
    },
    {
      "cell_type": "code",
      "metadata": {
        "id": "J9shcOEtkzcY",
        "colab_type": "code",
        "colab": {}
      },
      "source": [
        ""
      ],
      "execution_count": null,
      "outputs": []
    },
    {
      "cell_type": "markdown",
      "metadata": {
        "colab_type": "text",
        "id": "o6i5_7Q-hxqE"
      },
      "source": [
        "### **1.3.3 変数**\n",
        "\n",
        "> 動的型付け言語 のため、変数の方が状況に応じて自動的に決定される  \n",
        "> ex. 整数と浮動小数の掛け算は浮動小数に\n",
        "\n",
        "\n"
      ]
    },
    {
      "cell_type": "code",
      "metadata": {
        "id": "NDlwjIWBh42z",
        "colab_type": "code",
        "colab": {}
      },
      "source": [
        "x = 10 #初期化\n",
        "print(x)\n",
        "\n",
        "x = 100 #代入\n",
        "print(x)\n",
        "\n",
        "y = 3.14\n",
        "print(x*y) \n",
        "\n",
        "type(x*y) "
      ],
      "execution_count": null,
      "outputs": []
    },
    {
      "cell_type": "code",
      "metadata": {
        "id": "PCLUFdBjk0XY",
        "colab_type": "code",
        "colab": {}
      },
      "source": [
        ""
      ],
      "execution_count": null,
      "outputs": []
    },
    {
      "cell_type": "markdown",
      "metadata": {
        "colab_type": "text",
        "id": "drJwqqOGjFrn"
      },
      "source": [
        "### **1.3.4 リスト**\n",
        "\n",
        "\n",
        "\n"
      ]
    },
    {
      "cell_type": "code",
      "metadata": {
        "id": "3fWiJ5chjN8d",
        "colab_type": "code",
        "colab": {}
      },
      "source": [
        "a = [1, 2, 3, 4, 5] # リストの作成\n",
        "print(a) # リストの中身を出力する"
      ],
      "execution_count": null,
      "outputs": []
    },
    {
      "cell_type": "code",
      "metadata": {
        "id": "0ipg77txjTXt",
        "colab_type": "code",
        "colab": {}
      },
      "source": [
        "len(a) # リストの長さを取得"
      ],
      "execution_count": null,
      "outputs": []
    },
    {
      "cell_type": "code",
      "metadata": {
        "id": "fm_gomEijVRF",
        "colab_type": "code",
        "colab": {}
      },
      "source": [
        "a[0] # 最初の要素にアクセス"
      ],
      "execution_count": null,
      "outputs": []
    },
    {
      "cell_type": "code",
      "metadata": {
        "id": "HSmS36QTjYJN",
        "colab_type": "code",
        "colab": {}
      },
      "source": [
        "a[4]"
      ],
      "execution_count": null,
      "outputs": []
    },
    {
      "cell_type": "code",
      "metadata": {
        "id": "De4d9R9ejaY1",
        "colab_type": "code",
        "colab": {}
      },
      "source": [
        "a[4] = 99 # 値を代入\n",
        "print(a)"
      ],
      "execution_count": null,
      "outputs": []
    },
    {
      "cell_type": "markdown",
      "metadata": {
        "id": "uj3AdeJgjjF1",
        "colab_type": "text"
      },
      "source": [
        "\n",
        "\n",
        "> スライシングを用いれば、単一の値へのアクセスだけでなく、リストのサブリスト（部分リスト）にアクセスすることができる\n",
        "\n"
      ]
    },
    {
      "cell_type": "code",
      "metadata": {
        "id": "HJscyMq6jqku",
        "colab_type": "code",
        "colab": {}
      },
      "source": [
        "print(a)"
      ],
      "execution_count": null,
      "outputs": []
    },
    {
      "cell_type": "code",
      "metadata": {
        "id": "ROpDaWdTjtmU",
        "colab_type": "code",
        "colab": {}
      },
      "source": [
        "a[0:2] # インデックスの0 番目から2 番目（2 番目は含まない！）まで取得"
      ],
      "execution_count": null,
      "outputs": []
    },
    {
      "cell_type": "code",
      "metadata": {
        "id": "TwWs0U1DjzTb",
        "colab_type": "code",
        "colab": {}
      },
      "source": [
        "a[1:] # インデックスの1 番目から最後まで取得"
      ],
      "execution_count": null,
      "outputs": []
    },
    {
      "cell_type": "code",
      "metadata": {
        "id": "Tx2jJnwaj5Mc",
        "colab_type": "code",
        "colab": {}
      },
      "source": [
        "a[:3] # 最初からインデックスの3 番目（3 番目は含まない！）まで取得"
      ],
      "execution_count": null,
      "outputs": []
    },
    {
      "cell_type": "code",
      "metadata": {
        "id": "y0oePxjtj8dr",
        "colab_type": "code",
        "colab": {}
      },
      "source": [
        "a[:-1] # 最初から最後の要素のひとつ前まで取得"
      ],
      "execution_count": null,
      "outputs": []
    },
    {
      "cell_type": "code",
      "metadata": {
        "id": "xG9f1GQckBxT",
        "colab_type": "code",
        "colab": {}
      },
      "source": [
        "a[:-2] # 最初から最後の要素の2 つ前まで取得"
      ],
      "execution_count": null,
      "outputs": []
    },
    {
      "cell_type": "code",
      "metadata": {
        "id": "6fWtu5Hek1KB",
        "colab_type": "code",
        "colab": {}
      },
      "source": [
        ""
      ],
      "execution_count": null,
      "outputs": []
    },
    {
      "cell_type": "markdown",
      "metadata": {
        "id": "Wie_YuwDkG4r",
        "colab_type": "text"
      },
      "source": [
        "### **1.3.5 ディクショナリ**\n",
        "\n",
        "> キーと値をペアとしてデータを格納"
      ]
    },
    {
      "cell_type": "code",
      "metadata": {
        "id": "zFsebIAGk_8P",
        "colab_type": "code",
        "colab": {}
      },
      "source": [
        "me = {'height':180} # ディクショナリを作成\n",
        "me['height'] # 要素にアクセス"
      ],
      "execution_count": null,
      "outputs": []
    },
    {
      "cell_type": "code",
      "metadata": {
        "id": "6Two9ZtQlGDw",
        "colab_type": "code",
        "colab": {}
      },
      "source": [
        "me['weight'] = 70 # 新しい要素を追加"
      ],
      "execution_count": null,
      "outputs": []
    },
    {
      "cell_type": "code",
      "metadata": {
        "id": "zC2DI-GilISJ",
        "colab_type": "code",
        "colab": {}
      },
      "source": [
        "print(me)"
      ],
      "execution_count": null,
      "outputs": []
    },
    {
      "cell_type": "code",
      "metadata": {
        "id": "qSeH8TuflNuX",
        "colab_type": "code",
        "colab": {}
      },
      "source": [
        ""
      ],
      "execution_count": null,
      "outputs": []
    },
    {
      "cell_type": "markdown",
      "metadata": {
        "id": "oygqT1LKlPUv",
        "colab_type": "text"
      },
      "source": [
        "### **1.3.6 ブーリアン**\n",
        "\n",
        "> True or False  \n",
        "> 演算時は and / or / not など"
      ]
    },
    {
      "cell_type": "code",
      "metadata": {
        "id": "_LNH6ROGllcj",
        "colab_type": "code",
        "colab": {}
      },
      "source": [
        "hungry = True # お腹空いている？\n",
        "sleepy = False # 眠い？\n",
        "type(hungry)"
      ],
      "execution_count": null,
      "outputs": []
    },
    {
      "cell_type": "code",
      "metadata": {
        "id": "Z_hMYzaPlsSF",
        "colab_type": "code",
        "colab": {}
      },
      "source": [
        "not hungry"
      ],
      "execution_count": null,
      "outputs": []
    },
    {
      "cell_type": "code",
      "metadata": {
        "id": "45NObhGulxEd",
        "colab_type": "code",
        "colab": {}
      },
      "source": [
        "hungry and sleepy # 空腹かつ眠い"
      ],
      "execution_count": null,
      "outputs": []
    },
    {
      "cell_type": "code",
      "metadata": {
        "id": "01R_J8NElzz9",
        "colab_type": "code",
        "colab": {}
      },
      "source": [
        "hungry or sleepy # 空腹または眠い"
      ],
      "execution_count": null,
      "outputs": []
    },
    {
      "cell_type": "code",
      "metadata": {
        "id": "XJaDeYUcl16k",
        "colab_type": "code",
        "colab": {}
      },
      "source": [
        ""
      ],
      "execution_count": null,
      "outputs": []
    },
    {
      "cell_type": "markdown",
      "metadata": {
        "id": "guGanNoIl2V4",
        "colab_type": "text"
      },
      "source": [
        "### **1.3.7 if文**\n",
        "\n",
        "> if / else を用いて条件分岐  \n",
        "> インデント（空白文字）が重要  \n",
        "> タブではなく 空白文字が推奨"
      ]
    },
    {
      "cell_type": "code",
      "metadata": {
        "id": "Q7hwHBjimDaM",
        "colab_type": "code",
        "colab": {}
      },
      "source": [
        "hungry = True\n",
        "if hungry:\n",
        "  print(\"I'm hungry\")"
      ],
      "execution_count": null,
      "outputs": []
    },
    {
      "cell_type": "code",
      "metadata": {
        "id": "2zNnXw5emkN6",
        "colab_type": "code",
        "colab": {}
      },
      "source": [
        ""
      ],
      "execution_count": null,
      "outputs": []
    },
    {
      "cell_type": "code",
      "metadata": {
        "id": "OZhTRiezmNVU",
        "colab_type": "code",
        "colab": {}
      },
      "source": [
        "hungry = False\n",
        "if hungry:\n",
        "  print(\"I'm hungry\") # 空白文字によるインデント\n",
        "else:\n",
        "  print(\"I'm not hungry\")\n",
        "  print(\"I'm sleepy\")"
      ],
      "execution_count": null,
      "outputs": []
    },
    {
      "cell_type": "code",
      "metadata": {
        "id": "hMIv0zcBmvcd",
        "colab_type": "code",
        "colab": {}
      },
      "source": [
        ""
      ],
      "execution_count": null,
      "outputs": []
    },
    {
      "cell_type": "markdown",
      "metadata": {
        "id": "wFl2Ylzmmv26",
        "colab_type": "text"
      },
      "source": [
        "### **1.3.8 for文**\n"
      ]
    },
    {
      "cell_type": "code",
      "metadata": {
        "id": "_MOBA-xWm69R",
        "colab_type": "code",
        "colab": {}
      },
      "source": [
        "for i in [1,2,3]:\n",
        "  print(i)"
      ],
      "execution_count": null,
      "outputs": []
    },
    {
      "cell_type": "code",
      "metadata": {
        "id": "HixUIlDYnFaI",
        "colab_type": "code",
        "colab": {}
      },
      "source": [
        ""
      ],
      "execution_count": null,
      "outputs": []
    },
    {
      "cell_type": "markdown",
      "metadata": {
        "id": "CL4LvXRjnF8h",
        "colab_type": "text"
      },
      "source": [
        "### **1.3.9 関数**\n",
        "\n",
        "> まとまりのある処理を関数として定義  \n",
        "> 引数も可  \n",
        "> 文字列の連結は +\n",
        "\n",
        "\n",
        "\n",
        "\n",
        "\n",
        "\n"
      ]
    },
    {
      "cell_type": "code",
      "metadata": {
        "id": "zS8VN4zKnKYQ",
        "colab_type": "code",
        "colab": {}
      },
      "source": [
        "def hello():\n",
        "  print(\"Hello World!\")"
      ],
      "execution_count": null,
      "outputs": []
    },
    {
      "cell_type": "code",
      "metadata": {
        "id": "El6Nz1FanWIY",
        "colab_type": "code",
        "colab": {}
      },
      "source": [
        "hello()"
      ],
      "execution_count": null,
      "outputs": []
    },
    {
      "cell_type": "code",
      "metadata": {
        "id": "25mIW_0jnpIo",
        "colab_type": "code",
        "colab": {}
      },
      "source": [
        "def hello(object):\n",
        "  print('Hello ' + object + \" !\")"
      ],
      "execution_count": null,
      "outputs": []
    },
    {
      "cell_type": "code",
      "metadata": {
        "id": "7YSE7DiRnsN-",
        "colab_type": "code",
        "colab": {}
      },
      "source": [
        "hello(\"cat\")"
      ],
      "execution_count": null,
      "outputs": []
    },
    {
      "cell_type": "code",
      "metadata": {
        "id": "A043ux8Dn1j-",
        "colab_type": "code",
        "colab": {}
      },
      "source": [
        ""
      ],
      "execution_count": null,
      "outputs": []
    },
    {
      "cell_type": "markdown",
      "metadata": {
        "id": "DFmz9SjBn-b_",
        "colab_type": "text"
      },
      "source": [
        "## **1.4 Python スクリプトファイル**"
      ]
    },
    {
      "cell_type": "markdown",
      "metadata": {
        "id": "nJ-0p1owoEjY",
        "colab_type": "text"
      },
      "source": [
        "### **1.4.1 ファイルに保存**\n"
      ]
    },
    {
      "cell_type": "markdown",
      "metadata": {
        "id": "nkotHO1boPll",
        "colab_type": "text"
      },
      "source": [
        "### **1.4.2 クラス**\n",
        "\n",
        "> ユーザー独自のクラス定義 / オリジナルのメソッドや属性の定義が可能  \n",
        "> \\_\\_init\\_\\_  初期化メソッド  \n",
        "> self を メソッドの第一引数に\n",
        "\n",
        "\n",
        "\n",
        "\n",
        "\n"
      ]
    },
    {
      "cell_type": "code",
      "metadata": {
        "id": "sDwKaydopF1r",
        "colab_type": "code",
        "colab": {}
      },
      "source": [
        "class Man:\n",
        "    def __init__(self, name):\n",
        "        self.name = name\n",
        "        print(\"Initilized!\")\n",
        "\n",
        "    def hello(self):\n",
        "        print(\"Hello \" + self.name + \"!\")\n",
        "\n",
        "    def goodbye(self):\n",
        "        print(\"Good-bye \" + self.name + \"!\")\n",
        "\n",
        "m = Man(\"David\")"
      ],
      "execution_count": null,
      "outputs": []
    },
    {
      "cell_type": "code",
      "metadata": {
        "id": "DHxEn2gGpRUJ",
        "colab_type": "code",
        "colab": {}
      },
      "source": [
        "m.hello()\n",
        "m.goodbye()"
      ],
      "execution_count": null,
      "outputs": []
    },
    {
      "cell_type": "code",
      "metadata": {
        "id": "6T0jNuompUoD",
        "colab_type": "code",
        "colab": {}
      },
      "source": [
        ""
      ],
      "execution_count": null,
      "outputs": []
    },
    {
      "cell_type": "markdown",
      "metadata": {
        "id": "vB-iwbuNpVxp",
        "colab_type": "text"
      },
      "source": [
        "## **1.5 NumPy**\n",
        "\n",
        "> 配列クラス numpy.array を 多用する"
      ]
    },
    {
      "cell_type": "markdown",
      "metadata": {
        "id": "9ZdT48O6pqEQ",
        "colab_type": "text"
      },
      "source": [
        "### **1.5.1 NumPy のインポート**"
      ]
    },
    {
      "cell_type": "code",
      "metadata": {
        "id": "0id7kEOTqCLX",
        "colab_type": "code",
        "colab": {}
      },
      "source": [
        "import numpy as np"
      ],
      "execution_count": null,
      "outputs": []
    },
    {
      "cell_type": "code",
      "metadata": {
        "id": "lvzNT9O8qJw7",
        "colab_type": "code",
        "colab": {}
      },
      "source": [
        ""
      ],
      "execution_count": null,
      "outputs": []
    },
    {
      "cell_type": "markdown",
      "metadata": {
        "id": "fsxtyB-7pu9Z",
        "colab_type": "text"
      },
      "source": [
        "### **1.5.2 NumPy 配列の生成**\n",
        "\n",
        "> np.array() メソッド\n",
        "\n"
      ]
    },
    {
      "cell_type": "code",
      "metadata": {
        "id": "JzhRvYrsp5Td",
        "colab_type": "code",
        "colab": {}
      },
      "source": [
        "x = np.array([1.0, 2.0, 3.0])\n",
        "print(x)"
      ],
      "execution_count": null,
      "outputs": []
    },
    {
      "cell_type": "code",
      "metadata": {
        "id": "0JbIlYjlqfgu",
        "colab_type": "code",
        "colab": {}
      },
      "source": [
        "type(x)"
      ],
      "execution_count": null,
      "outputs": []
    },
    {
      "cell_type": "markdown",
      "metadata": {
        "id": "QTjDG4-SqMdB",
        "colab_type": "text"
      },
      "source": [
        "### **1.5.3 NumPy の算術計算**\n",
        "\n",
        "> 配列のx とy の要素数が同じ  \n",
        "> NumPy 配列と単一の数値（スカラ値）の組み合わせで算術計算を行うこともできる ⇒ ブロードキャスト\n",
        "\n",
        "\n",
        "\n",
        "\n",
        "\n"
      ]
    },
    {
      "cell_type": "code",
      "metadata": {
        "id": "Ho5lcYLHqa9X",
        "colab_type": "code",
        "colab": {}
      },
      "source": [
        "x = np.array([1.0,2.0,3.0])\n",
        "y = np.array([2.0,4.0,6.0])"
      ],
      "execution_count": null,
      "outputs": []
    },
    {
      "cell_type": "code",
      "metadata": {
        "id": "ezBpkS2tqsXM",
        "colab_type": "code",
        "colab": {}
      },
      "source": [
        "x + y # 要素ごとの足し算"
      ],
      "execution_count": null,
      "outputs": []
    },
    {
      "cell_type": "code",
      "metadata": {
        "id": "1mMeCCHxq0hs",
        "colab_type": "code",
        "colab": {}
      },
      "source": [
        "x - y"
      ],
      "execution_count": null,
      "outputs": []
    },
    {
      "cell_type": "code",
      "metadata": {
        "id": "BeB7Zhkgq48E",
        "colab_type": "code",
        "colab": {}
      },
      "source": [
        "x * y # element-wise product"
      ],
      "execution_count": null,
      "outputs": []
    },
    {
      "cell_type": "code",
      "metadata": {
        "id": "UoO3UNLAq8Z1",
        "colab_type": "code",
        "colab": {}
      },
      "source": [
        "x / y"
      ],
      "execution_count": null,
      "outputs": []
    },
    {
      "cell_type": "code",
      "metadata": {
        "id": "7jc3Tr9uq_er",
        "colab_type": "code",
        "colab": {}
      },
      "source": [
        ""
      ],
      "execution_count": null,
      "outputs": []
    },
    {
      "cell_type": "markdown",
      "metadata": {
        "id": "mlfW6oj7q_zz",
        "colab_type": "text"
      },
      "source": [
        "### **1.5.4 NumPy のN次元配列**\n",
        "\n",
        "> 多次元の配列も作成できる  \n",
        "> 形状は shape データ型は dtype で参照\n",
        "\n",
        "\n",
        "\n"
      ]
    },
    {
      "cell_type": "code",
      "metadata": {
        "id": "PAe5DTD2rhPU",
        "colab_type": "code",
        "colab": {}
      },
      "source": [
        "A = np.array([[1, 2], [3, 4]])"
      ],
      "execution_count": null,
      "outputs": []
    },
    {
      "cell_type": "code",
      "metadata": {
        "id": "IjBWWAq_rjga",
        "colab_type": "code",
        "colab": {}
      },
      "source": [
        "print(A)"
      ],
      "execution_count": null,
      "outputs": []
    },
    {
      "cell_type": "code",
      "metadata": {
        "id": "EXjr10jmr9J0",
        "colab_type": "code",
        "colab": {}
      },
      "source": [
        "A.dtype"
      ],
      "execution_count": null,
      "outputs": []
    },
    {
      "cell_type": "code",
      "metadata": {
        "id": "bly6YxV5sN6w",
        "colab_type": "code",
        "colab": {}
      },
      "source": [
        "B = np.array([[3, 0],[0, 6]])"
      ],
      "execution_count": null,
      "outputs": []
    },
    {
      "cell_type": "code",
      "metadata": {
        "id": "CkyT-MJOsRaB",
        "colab_type": "code",
        "colab": {}
      },
      "source": [
        "A + B"
      ],
      "execution_count": null,
      "outputs": []
    },
    {
      "cell_type": "code",
      "metadata": {
        "id": "UqR3hTZrsVps",
        "colab_type": "code",
        "colab": {}
      },
      "source": [
        "A * B"
      ],
      "execution_count": null,
      "outputs": []
    },
    {
      "cell_type": "code",
      "metadata": {
        "id": "hZj4pTv1sbxX",
        "colab_type": "code",
        "colab": {}
      },
      "source": [
        "print(A)"
      ],
      "execution_count": null,
      "outputs": []
    },
    {
      "cell_type": "code",
      "metadata": {
        "id": "xKLnZpuPsjW-",
        "colab_type": "code",
        "colab": {}
      },
      "source": [
        "A * 10"
      ],
      "execution_count": null,
      "outputs": []
    },
    {
      "cell_type": "markdown",
      "metadata": {
        "id": "7WMNgkPnsq0M",
        "colab_type": "text"
      },
      "source": [
        "\n",
        "\n",
        "> 1次元配列を「ベクトル」、2次元配列を「行列」、3次元以上の配列を「テンソル」または「多次元配列」とする\n",
        "\n"
      ]
    },
    {
      "cell_type": "code",
      "metadata": {
        "id": "Mbj-YvGAszKe",
        "colab_type": "code",
        "colab": {}
      },
      "source": [
        ""
      ],
      "execution_count": null,
      "outputs": []
    },
    {
      "cell_type": "markdown",
      "metadata": {
        "id": "sMxpuPj8tBpt",
        "colab_type": "text"
      },
      "source": [
        "### **1.5.5 ブロードキャスト**\n",
        "\n",
        "![代替テキスト](https://drive.google.com/uc?export=view&id=1-__89-tyXGp9jVEs2Hz45-qaVlsaJVLg)"
      ]
    },
    {
      "cell_type": "code",
      "metadata": {
        "id": "8v5TWV1H3l3c",
        "colab_type": "code",
        "colab": {}
      },
      "source": [
        "A = np.array([[1, 2], [3, 4]])\n",
        "B = np.array([10, 20])"
      ],
      "execution_count": null,
      "outputs": []
    },
    {
      "cell_type": "code",
      "metadata": {
        "id": "nytMyrZb3pWv",
        "colab_type": "code",
        "colab": {}
      },
      "source": [
        "A * B"
      ],
      "execution_count": null,
      "outputs": []
    },
    {
      "cell_type": "markdown",
      "metadata": {
        "id": "98x6xL5L4GMh",
        "colab_type": "text"
      },
      "source": [
        "![代替テキスト](https://drive.google.com/uc?export=view&id=1A6VIruh8Qg1hcty3w_51H4DgdxQVhBr6)"
      ]
    },
    {
      "cell_type": "code",
      "metadata": {
        "id": "KkLPvvye4LJJ",
        "colab_type": "code",
        "colab": {}
      },
      "source": [
        ""
      ],
      "execution_count": null,
      "outputs": []
    },
    {
      "cell_type": "markdown",
      "metadata": {
        "id": "tRekZWHC4R2y",
        "colab_type": "text"
      },
      "source": [
        "### **1.5.6 要素へのアクセス**\n",
        "\n",
        "> インデックスは 0 から  \n",
        "> for 文を使って各要素にアクセスも可能  \n",
        "> NumPyを使うと 配列によってアクセスすることも可能\n",
        "\n",
        "\n",
        "\n",
        "\n",
        "\n"
      ]
    },
    {
      "cell_type": "code",
      "metadata": {
        "id": "BmFvei--4aJ4",
        "colab_type": "code",
        "colab": {}
      },
      "source": [
        "X = np.array([[51, 55], [14, 19], [0, 4]])\n",
        "print(X)"
      ],
      "execution_count": null,
      "outputs": []
    },
    {
      "cell_type": "code",
      "metadata": {
        "id": "A-m7RPG44iLR",
        "colab_type": "code",
        "colab": {}
      },
      "source": [
        "X[0] # 0 行目"
      ],
      "execution_count": null,
      "outputs": []
    },
    {
      "cell_type": "code",
      "metadata": {
        "id": "3uCKuSPS4mSH",
        "colab_type": "code",
        "colab": {}
      },
      "source": [
        "X[0][1] # (0,1) の要素"
      ],
      "execution_count": null,
      "outputs": []
    },
    {
      "cell_type": "code",
      "metadata": {
        "id": "3x7lCZf74nym",
        "colab_type": "code",
        "colab": {}
      },
      "source": [
        "for row in X:\n",
        "  print(row)"
      ],
      "execution_count": null,
      "outputs": []
    },
    {
      "cell_type": "code",
      "metadata": {
        "id": "W-ZdNQgG5OLv",
        "colab_type": "code",
        "colab": {}
      },
      "source": [
        "X = X.flatten() # X を1 次元の配列へ変換\n",
        "print(X)"
      ],
      "execution_count": null,
      "outputs": []
    },
    {
      "cell_type": "code",
      "metadata": {
        "id": "KbnVBJz35Uut",
        "colab_type": "code",
        "colab": {}
      },
      "source": [
        "X[np.array([0, 2, 4])] # インデックスが0、2、4 番目の要素を取得"
      ],
      "execution_count": null,
      "outputs": []
    },
    {
      "cell_type": "code",
      "metadata": {
        "id": "CDYmAdcx5f31",
        "colab_type": "code",
        "colab": {}
      },
      "source": [
        "X > 15"
      ],
      "execution_count": null,
      "outputs": []
    },
    {
      "cell_type": "code",
      "metadata": {
        "id": "wVkC8Va-5jGE",
        "colab_type": "code",
        "colab": {}
      },
      "source": [
        "X[X>15]"
      ],
      "execution_count": null,
      "outputs": []
    },
    {
      "cell_type": "code",
      "metadata": {
        "id": "grQDidiH_Tk-",
        "colab_type": "code",
        "colab": {}
      },
      "source": [
        ""
      ],
      "execution_count": null,
      "outputs": []
    },
    {
      "cell_type": "markdown",
      "metadata": {
        "id": "pwPSoF5N_UHS",
        "colab_type": "text"
      },
      "source": [
        "## **1.6 Matplotlib**\n",
        "\n",
        "> グラフ描画ライブラリ\n",
        "\n"
      ]
    },
    {
      "cell_type": "markdown",
      "metadata": {
        "id": "wu2rhIHG_eJ5",
        "colab_type": "text"
      },
      "source": [
        "### **1.6.1 単純なグラフの描画**"
      ]
    },
    {
      "cell_type": "code",
      "metadata": {
        "id": "DJYJVsMa_lHp",
        "colab_type": "code",
        "colab": {}
      },
      "source": [
        "import numpy as np\n",
        "import matplotlib.pyplot as plt\n",
        "\n",
        "# データの作成\n",
        "x = np.arange(0,6,0.1) # 0 から6 まで0.1 刻みで生成\n",
        "y = np.sin(x)\n",
        "\n",
        "plt.plot(x, y)\n",
        "plt.show()"
      ],
      "execution_count": null,
      "outputs": []
    },
    {
      "cell_type": "code",
      "metadata": {
        "id": "4hnp6K5C_43A",
        "colab_type": "code",
        "colab": {}
      },
      "source": [
        ""
      ],
      "execution_count": null,
      "outputs": []
    },
    {
      "cell_type": "markdown",
      "metadata": {
        "id": "t5hQIHzv_5NX",
        "colab_type": "text"
      },
      "source": [
        "### **1.6.2 pyplot の機能**"
      ]
    },
    {
      "cell_type": "code",
      "metadata": {
        "id": "wt-xbaPRAAr4",
        "colab_type": "code",
        "colab": {}
      },
      "source": [
        "import numpy as np\n",
        "import matplotlib.pyplot as plt\n",
        "\n",
        "# データの作成\n",
        "x = np.arange(0, 6, 0.1) # 0 から6 まで0.1 刻みで生成\n",
        "y1 = np.sin(x)\n",
        "y2 = np.cos(x)\n",
        "\n",
        "# グラフの描画\n",
        "plt.plot(x, y1, label=\"sin\")\n",
        "plt.plot(x, y2, linestyle = \"--\", label=\"cos\") # 破線で描画\n",
        "plt.xlabel(\"x\") # x 軸のラベル\n",
        "plt.ylabel(\"y\") # y 軸のラベル\n",
        "plt.title('sin & cos') # タイトル\n",
        "plt.legend()\n",
        "plt.show()"
      ],
      "execution_count": null,
      "outputs": []
    },
    {
      "cell_type": "code",
      "metadata": {
        "id": "vy_4A87kAUSu",
        "colab_type": "code",
        "colab": {}
      },
      "source": [
        ""
      ],
      "execution_count": null,
      "outputs": []
    },
    {
      "cell_type": "markdown",
      "metadata": {
        "id": "38Ro_grPAUsK",
        "colab_type": "text"
      },
      "source": [
        "### **1.6.3 画像の表示**\n",
        "\n",
        "> 画像の読み込み\n",
        "\n"
      ]
    },
    {
      "cell_type": "code",
      "metadata": {
        "id": "E59qDAQGAixO",
        "colab_type": "code",
        "colab": {}
      },
      "source": [
        "import urllib.request\n",
        "import matplotlib.pyplot as plt\n",
        "\n",
        "# 画像の読み込み（適切なパスを設定する！）\n",
        "f = urllib.request.urlopen(\"https://drive.google.com/uc?export=view&id=13edigUYLvVhQVdGSpqu4YAMKDCn8AJh9\")\n",
        "a = plt.imread(f)\n",
        "plt.imshow(a)\n",
        "plt.show()\n"
      ],
      "execution_count": null,
      "outputs": []
    },
    {
      "cell_type": "code",
      "metadata": {
        "id": "nBNrQSD9CX85",
        "colab_type": "code",
        "colab": {}
      },
      "source": [
        ""
      ],
      "execution_count": null,
      "outputs": []
    },
    {
      "cell_type": "markdown",
      "metadata": {
        "id": "LYFoYsRGCYVP",
        "colab_type": "text"
      },
      "source": [
        "## **1.7 まとめ**"
      ]
    },
    {
      "cell_type": "code",
      "metadata": {
        "id": "6Zp-nU0ZlGCw",
        "colab_type": "code",
        "colab": {}
      },
      "source": [
        "def test_function_3(arg1, arg2 = \"引数なし\"):\n",
        "    print(\"arg1:\" + arg1 + \" arg2:\" + arg2)\n",
        "\n",
        "#関数を実行\n",
        "test_function_3(\"引数1\") # ⇒ arg1:引数1 arg2:引数なし\n",
        "test_function_3(\"引数1\", \"引数2\") # ⇒ arg1:引数1 arg2:引数2"
      ],
      "execution_count": null,
      "outputs": []
    }
  ]
}