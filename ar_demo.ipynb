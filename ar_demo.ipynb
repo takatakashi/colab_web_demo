{
  "nbformat": 4,
  "nbformat_minor": 0,
  "metadata": {
    "colab": {
      "name": "ar_demo.ipynb のコピー",
      "provenance": [],
      "collapsed_sections": [],
      "include_colab_link": true
    },
    "kernelspec": {
      "name": "python3",
      "display_name": "Python 3"
    }
  },
  "cells": [
    {
      "cell_type": "markdown",
      "metadata": {
        "id": "view-in-github",
        "colab_type": "text"
      },
      "source": [
        "<a href=\"https://colab.research.google.com/github/takatakashi/colab_web_demo/blob/master/ar_demo.ipynb\" target=\"_parent\"><img src=\"https://colab.research.google.com/assets/colab-badge.svg\" alt=\"Open In Colab\"/></a>"
      ]
    },
    {
      "cell_type": "code",
      "metadata": {
        "id": "8hPM3rn5vKuR",
        "colab_type": "code",
        "colab": {}
      },
      "source": [
        "!wget https://bin.equinox.io/c/4VmDzA7iaHb/ngrok-stable-linux-amd64.zip"
      ],
      "execution_count": 0,
      "outputs": []
    },
    {
      "cell_type": "code",
      "metadata": {
        "id": "N6YwGiV6vOpr",
        "colab_type": "code",
        "colab": {}
      },
      "source": [
        "!unzip ngrok-stable-linux-amd64.zip\n",
        "\n",
        "get_ipython().system_raw('./ngrok http 6006 &')\n",
        "! curl -s http://localhost:4040/api/tunnels | python3 -c \\\n",
        "    \"import sys, json; print(json.load(sys.stdin)['tunnels'][0]['public_url'])\""
      ],
      "execution_count": 0,
      "outputs": []
    },
    {
      "cell_type": "code",
      "metadata": {
        "id": "lwuD9Q_cNo3L",
        "colab_type": "code",
        "colab": {}
      },
      "source": [
        "import os\n",
        "\n",
        "#Writing to html file on colab\n",
        "\n",
        "html = \"\"\"\n",
        "<!DOCTYPE html>\n",
        "\n",
        "<html>\n",
        "<head>\n",
        "<meta charset=\"utf-8\" />\n",
        "<!-- A-Frame ライブラリの読み込み -->\n",
        "<script src=\"https://aframe.io/releases/0.8.2/aframe.min.js\"></script>\n",
        "<!-- AR.js ライブラリの読み込み -->\n",
        "<script src=\"https://cdn.rawgit.com/jeromeetienne/AR.js/1.5.0/aframe/build/aframe-ar.js\"></script>\n",
        "</head>\n",
        "<body style='margin : 0px; overflow: hidden;'>\n",
        "<a-scene embedded arjs=\"debugUIEnabled:false;trackingMethod:best;\" vr-mode-ui=\"enabled: false\">\n",
        "    <!--\n",
        "    <a-assets>\n",
        "        <a-asset-item id=\"santa-obj\" src=\"model_obj/santa/santa.obj\"></a-asset-item>\n",
        "        <a-asset-item id=\"santa-mtl\" src=\"model_obj/santa/santa.mtl\"></a-asset-item>\n",
        "    </a-assets>\n",
        "    -->\n",
        "    <a-marker preset=\"hiro\">\n",
        "        <!--\n",
        "        <a-obj-model id=\"santa\" src=\"#santa-obj\" mtl=\"#santa-mtl\" position=\"0 0 0\" scale=\"0.5 0.5 0.5\" rotation=\"0 0 0\"></a-obj-model>\n",
        "        <a-text value=\"Merry X'mas!!!\" position=\"0 1.3 0\" align=\"center\"></a-text>\n",
        "        -->\n",
        "        <a-text value=\"FUJIMIC Intern2020!!\" position=\"0 0.5 0\" align=\"center\"></a-text>\n",
        "    </a-marker>\n",
        "    <a-entity camera></a-entity>\n",
        "</a-scene>\n",
        "</body>\n",
        "</html>\n",
        "\"\"\"\n",
        "\n",
        "#Saving html file\n",
        "if not os.path.isdir( \"templates\" ):\n",
        "    os.makedirs( \"templates\" )\n",
        "with open(\"templates/index.html\", mode='w') as f:\n",
        "    f.write(html)"
      ],
      "execution_count": 0,
      "outputs": []
    },
    {
      "cell_type": "code",
      "metadata": {
        "id": "dpF0Y07AwKhT",
        "colab_type": "code",
        "colab": {}
      },
      "source": [
        "from flask import Flask, render_template\n",
        "\n",
        "app = Flask(__name__)\n",
        "\n",
        "@app.route(\"/\")\n",
        "def index():\n",
        "    return render_template( \"index.html\" )\n",
        "\n",
        "if __name__ == '__main__':\n",
        "    app.run(port=6006)"
      ],
      "execution_count": 0,
      "outputs": []
    }
  ]
}